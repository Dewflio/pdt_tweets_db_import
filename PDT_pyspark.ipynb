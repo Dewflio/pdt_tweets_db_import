{
 "cells": [
  {
   "cell_type": "code",
   "execution_count": 1,
   "metadata": {},
   "outputs": [],
   "source": [
    "from pyspark.sql import SparkSession\n",
    "import json"
   ]
  },
  {
   "cell_type": "code",
   "execution_count": 2,
   "metadata": {},
   "outputs": [],
   "source": [
    "spark = SparkSession.builder.master(\"local[*]\").appName(\"PDT_pyspark_test\").getOrCreate()"
   ]
  },
  {
   "cell_type": "code",
   "execution_count": 3,
   "metadata": {},
   "outputs": [
    {
     "name": "stdout",
     "output_type": "stream",
     "text": [
      "<pyspark.sql.session.SparkSession object at 0x00000182BAC171F0>\n"
     ]
    }
   ],
   "source": [
    "print(spark)"
   ]
  },
  {
   "cell_type": "code",
   "execution_count": 4,
   "metadata": {},
   "outputs": [],
   "source": [
    "json_authors = spark.read.json(\"D:/PDT_zadanie_1/authors.jsonl.gz\")"
   ]
  },
  {
   "cell_type": "code",
   "execution_count": 5,
   "metadata": {},
   "outputs": [],
   "source": [
    "json_conversations = spark.read.json(\"D:/PDT_zadanie_1/conversations.jsonl.gz\")"
   ]
  },
  {
   "cell_type": "code",
   "execution_count": 6,
   "metadata": {},
   "outputs": [
    {
     "name": "stdout",
     "output_type": "stream",
     "text": [
      "root\n",
      " |-- created_at: string (nullable = true)\n",
      " |-- description: string (nullable = true)\n",
      " |-- entities: struct (nullable = true)\n",
      " |    |-- description: struct (nullable = true)\n",
      " |    |    |-- cashtags: array (nullable = true)\n",
      " |    |    |    |-- element: struct (containsNull = true)\n",
      " |    |    |    |    |-- end: long (nullable = true)\n",
      " |    |    |    |    |-- start: long (nullable = true)\n",
      " |    |    |    |    |-- tag: string (nullable = true)\n",
      " |    |    |-- hashtags: array (nullable = true)\n",
      " |    |    |    |-- element: struct (containsNull = true)\n",
      " |    |    |    |    |-- end: long (nullable = true)\n",
      " |    |    |    |    |-- start: long (nullable = true)\n",
      " |    |    |    |    |-- tag: string (nullable = true)\n",
      " |    |    |-- mentions: array (nullable = true)\n",
      " |    |    |    |-- element: struct (containsNull = true)\n",
      " |    |    |    |    |-- end: long (nullable = true)\n",
      " |    |    |    |    |-- start: long (nullable = true)\n",
      " |    |    |    |    |-- username: string (nullable = true)\n",
      " |    |    |-- urls: array (nullable = true)\n",
      " |    |    |    |-- element: struct (containsNull = true)\n",
      " |    |    |    |    |-- display_url: string (nullable = true)\n",
      " |    |    |    |    |-- end: long (nullable = true)\n",
      " |    |    |    |    |-- expanded_url: string (nullable = true)\n",
      " |    |    |    |    |-- start: long (nullable = true)\n",
      " |    |    |    |    |-- url: string (nullable = true)\n",
      " |    |-- url: struct (nullable = true)\n",
      " |    |    |-- urls: array (nullable = true)\n",
      " |    |    |    |-- element: struct (containsNull = true)\n",
      " |    |    |    |    |-- display_url: string (nullable = true)\n",
      " |    |    |    |    |-- end: long (nullable = true)\n",
      " |    |    |    |    |-- expanded_url: string (nullable = true)\n",
      " |    |    |    |    |-- start: long (nullable = true)\n",
      " |    |    |    |    |-- url: string (nullable = true)\n",
      " |-- id: string (nullable = true)\n",
      " |-- location: string (nullable = true)\n",
      " |-- name: string (nullable = true)\n",
      " |-- pinned_tweet_id: string (nullable = true)\n",
      " |-- profile_image_url: string (nullable = true)\n",
      " |-- protected: boolean (nullable = true)\n",
      " |-- public_metrics: struct (nullable = true)\n",
      " |    |-- followers_count: long (nullable = true)\n",
      " |    |-- following_count: long (nullable = true)\n",
      " |    |-- listed_count: long (nullable = true)\n",
      " |    |-- tweet_count: long (nullable = true)\n",
      " |-- url: string (nullable = true)\n",
      " |-- username: string (nullable = true)\n",
      " |-- verified: boolean (nullable = true)\n",
      " |-- withheld: struct (nullable = true)\n",
      " |    |-- country_codes: array (nullable = true)\n",
      " |    |    |-- element: string (containsNull = true)\n",
      " |    |-- scope: string (nullable = true)\n",
      "\n"
     ]
    }
   ],
   "source": [
    "json_authors.printSchema()"
   ]
  },
  {
   "cell_type": "code",
   "execution_count": 7,
   "metadata": {},
   "outputs": [
    {
     "name": "stdout",
     "output_type": "stream",
     "text": [
      "root\n",
      " |-- attachments: struct (nullable = true)\n",
      " |    |-- media_keys: array (nullable = true)\n",
      " |    |    |-- element: string (containsNull = true)\n",
      " |    |-- poll_ids: array (nullable = true)\n",
      " |    |    |-- element: string (containsNull = true)\n",
      " |-- author_id: string (nullable = true)\n",
      " |-- context_annotations: array (nullable = true)\n",
      " |    |-- element: struct (containsNull = true)\n",
      " |    |    |-- domain: struct (nullable = true)\n",
      " |    |    |    |-- description: string (nullable = true)\n",
      " |    |    |    |-- id: string (nullable = true)\n",
      " |    |    |    |-- name: string (nullable = true)\n",
      " |    |    |-- entity: struct (nullable = true)\n",
      " |    |    |    |-- description: string (nullable = true)\n",
      " |    |    |    |-- id: string (nullable = true)\n",
      " |    |    |    |-- name: string (nullable = true)\n",
      " |-- conversation_id: string (nullable = true)\n",
      " |-- created_at: string (nullable = true)\n",
      " |-- entities: struct (nullable = true)\n",
      " |    |-- annotations: array (nullable = true)\n",
      " |    |    |-- element: struct (containsNull = true)\n",
      " |    |    |    |-- end: long (nullable = true)\n",
      " |    |    |    |-- normalized_text: string (nullable = true)\n",
      " |    |    |    |-- probability: double (nullable = true)\n",
      " |    |    |    |-- start: long (nullable = true)\n",
      " |    |    |    |-- type: string (nullable = true)\n",
      " |    |-- cashtags: array (nullable = true)\n",
      " |    |    |-- element: struct (containsNull = true)\n",
      " |    |    |    |-- end: long (nullable = true)\n",
      " |    |    |    |-- start: long (nullable = true)\n",
      " |    |    |    |-- tag: string (nullable = true)\n",
      " |    |-- hashtags: array (nullable = true)\n",
      " |    |    |-- element: struct (containsNull = true)\n",
      " |    |    |    |-- end: long (nullable = true)\n",
      " |    |    |    |-- start: long (nullable = true)\n",
      " |    |    |    |-- tag: string (nullable = true)\n",
      " |    |-- mentions: array (nullable = true)\n",
      " |    |    |-- element: struct (containsNull = true)\n",
      " |    |    |    |-- end: long (nullable = true)\n",
      " |    |    |    |-- id: string (nullable = true)\n",
      " |    |    |    |-- start: long (nullable = true)\n",
      " |    |    |    |-- username: string (nullable = true)\n",
      " |    |-- urls: array (nullable = true)\n",
      " |    |    |-- element: struct (containsNull = true)\n",
      " |    |    |    |-- description: string (nullable = true)\n",
      " |    |    |    |-- display_url: string (nullable = true)\n",
      " |    |    |    |-- end: long (nullable = true)\n",
      " |    |    |    |-- expanded_url: string (nullable = true)\n",
      " |    |    |    |-- images: array (nullable = true)\n",
      " |    |    |    |    |-- element: struct (containsNull = true)\n",
      " |    |    |    |    |    |-- height: long (nullable = true)\n",
      " |    |    |    |    |    |-- url: string (nullable = true)\n",
      " |    |    |    |    |    |-- width: long (nullable = true)\n",
      " |    |    |    |-- media_key: string (nullable = true)\n",
      " |    |    |    |-- start: long (nullable = true)\n",
      " |    |    |    |-- status: long (nullable = true)\n",
      " |    |    |    |-- title: string (nullable = true)\n",
      " |    |    |    |-- unwound_url: string (nullable = true)\n",
      " |    |    |    |-- url: string (nullable = true)\n",
      " |-- geo: struct (nullable = true)\n",
      " |    |-- coordinates: struct (nullable = true)\n",
      " |    |    |-- coordinates: array (nullable = true)\n",
      " |    |    |    |-- element: double (containsNull = true)\n",
      " |    |    |-- type: string (nullable = true)\n",
      " |    |-- place_id: string (nullable = true)\n",
      " |-- id: string (nullable = true)\n",
      " |-- in_reply_to_user_id: string (nullable = true)\n",
      " |-- lang: string (nullable = true)\n",
      " |-- possibly_sensitive: boolean (nullable = true)\n",
      " |-- public_metrics: struct (nullable = true)\n",
      " |    |-- like_count: long (nullable = true)\n",
      " |    |-- quote_count: long (nullable = true)\n",
      " |    |-- reply_count: long (nullable = true)\n",
      " |    |-- retweet_count: long (nullable = true)\n",
      " |-- referenced_tweets: array (nullable = true)\n",
      " |    |-- element: struct (containsNull = true)\n",
      " |    |    |-- id: string (nullable = true)\n",
      " |    |    |-- type: string (nullable = true)\n",
      " |-- reply_settings: string (nullable = true)\n",
      " |-- source: string (nullable = true)\n",
      " |-- text: string (nullable = true)\n",
      " |-- withheld: struct (nullable = true)\n",
      " |    |-- copyright: boolean (nullable = true)\n",
      " |    |-- country_codes: array (nullable = true)\n",
      " |    |    |-- element: string (containsNull = true)\n",
      " |    |-- scope: string (nullable = true)\n",
      "\n"
     ]
    }
   ],
   "source": [
    "json_conversations.printSchema()"
   ]
  },
  {
   "cell_type": "code",
   "execution_count": 8,
   "metadata": {},
   "outputs": [
    {
     "name": "stdout",
     "output_type": "stream",
     "text": [
      "+--------------------+--------------------+--------------------+-------------------+--------------------+--------------------+-------------------+--------------------+---------+--------------------+--------------------+---------------+--------+--------+\n",
      "|          created_at|         description|            entities|                 id|            location|                name|    pinned_tweet_id|   profile_image_url|protected|      public_metrics|                 url|       username|verified|withheld|\n",
      "+--------------------+--------------------+--------------------+-------------------+--------------------+--------------------+-------------------+--------------------+---------+--------------------+--------------------+---------------+--------+--------+\n",
      "|2009-11-20T09:32:...|Software Crafter ...|                null|           91305838|             Denizli|     Kadir Yürektürk| 494766748126543873|https://pbs.twimg...|    false|{394, 1251, 4, 11...|                    |      yurekturk|   false|    null|\n",
      "|2014-08-15T08:45:...|ben sağ oldukça s...|{{null, null, [{3...|         2743385416|         Türkiye🇹🇷|       Sinan Başaran|               null|https://pbs.twimg...|    false| {391, 328, 0, 1870}|                    |  sinannbasaran|   false|    null|\n",
      "|2008-12-07T06:44:...|                Hmmm|                null|           17937624|3rd Rock From The...|                  MV|               null|https://pbs.twimg...|    false|  {85, 930, 1, 3625}|                    |   mohnishvarma|   false|    null|\n",
      "|2013-08-08T04:28:...|                    |                null|         1654558016|              Mexico|       Maria Obregon|               null|https://pbs.twimg...|    false|  {25, 323, 0, 5445}|                    |mariaob51705231|   false|    null|\n",
      "|2021-06-28T02:37:...|Sabah, Malaysia\\n...|                null|1409339991965065219|                null|           Md.Naufal|               null|https://pbs.twimg...|    false|       {5, 4, 0, 40}|                    |      MdNaufal8|   false|    null|\n",
      "|2021-05-09T14:42:...|Financial Planner...|                null|1391403261748338695|      Delhi, Mumbai |           SJ Wealth|               null|https://pbs.twimg...|    false|   {196, 32, 0, 384}|                    |       SjWealth|   false|    null|\n",
      "|2009-09-11T08:35:...|forever zen mode,...|                null|           73341267|                indo|//anonymous henchmen|1566752266878537728|https://pbs.twimg...|    false|{437, 428, 4, 43063}|                    |   slickfinger_|   false|    null|\n",
      "|2009-12-09T21:52:...|Sosyal Medya Danı...|{null, {[{sosyala...|           95740692|Türkiye Cumhuriyeti |               Elmas|1260467736456634368|https://pbs.twimg...|    false|{3005, 565, 4, 7675}|https://t.co/ookH...|     elmastozlu|   false|    null|\n",
      "|2020-05-10T14:24:...|Bu şarkılar bu tü...|                null|1259489130158882816|                null|idris ÖZDEMİR. 3D...|               null|https://pbs.twimg...|    false|{1507, 2095, 0, 2...|                    |idriszd78450774|   false|    null|\n",
      "|2019-05-10T05:43:...|Yaşa Mustafa Kema...|{{null, null, [{7...|1126724453751115776|                null|         Karaca✌️✊ ރ|1517776574988402688|https://pbs.twimg...|    false|{25492, 9343, 17,...|                    |Sonsuzluk__1938|   false|    null|\n",
      "+--------------------+--------------------+--------------------+-------------------+--------------------+--------------------+-------------------+--------------------+---------+--------------------+--------------------+---------------+--------+--------+\n",
      "only showing top 10 rows\n",
      "\n"
     ]
    }
   ],
   "source": [
    "json_authors.show(10)"
   ]
  },
  {
   "cell_type": "code",
   "execution_count": 9,
   "metadata": {},
   "outputs": [
    {
     "data": {
      "text/plain": [
       "6675633"
      ]
     },
     "execution_count": 9,
     "metadata": {},
     "output_type": "execute_result"
    }
   ],
   "source": [
    "json_authors.count()\n"
   ]
  },
  {
   "cell_type": "code",
   "execution_count": 10,
   "metadata": {},
   "outputs": [
    {
     "data": {
      "text/plain": [
       "6527010"
      ]
     },
     "execution_count": 10,
     "metadata": {},
     "output_type": "execute_result"
    }
   ],
   "source": [
    "json_authors.distinct().count()"
   ]
  },
  {
   "cell_type": "code",
   "execution_count": null,
   "metadata": {},
   "outputs": [],
   "source": []
  }
 ],
 "metadata": {
  "kernelspec": {
   "display_name": "Python 3 (ipykernel)",
   "language": "python",
   "name": "python3"
  },
  "language_info": {
   "codemirror_mode": {
    "name": "ipython",
    "version": 3
   },
   "file_extension": ".py",
   "mimetype": "text/x-python",
   "name": "python",
   "nbconvert_exporter": "python",
   "pygments_lexer": "ipython3",
   "version": "3.8.6"
  }
 },
 "nbformat": 4,
 "nbformat_minor": 4
}
